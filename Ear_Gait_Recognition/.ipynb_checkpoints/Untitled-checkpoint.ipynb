{
 "cells": [
  {
   "cell_type": "code",
   "execution_count": 1,
   "metadata": {},
   "outputs": [
    {
     "name": "stderr",
     "output_type": "stream",
     "text": [
      "/home/pirl/anaconda3/lib/python3.6/site-packages/h5py/__init__.py:36: FutureWarning: Conversion of the second argument of issubdtype from `float` to `np.floating` is deprecated. In future, it will be treated as `np.float64 == np.dtype(float).type`.\n",
      "  from ._conv import register_converters as _register_converters\n"
     ]
    }
   ],
   "source": [
    "import tensorflow as tf\n",
    "import pandas as pd\n",
    "import sys\n",
    "import matplotlib.pyplot as plt\n",
    "import numpy as np\n",
    "import os"
   ]
  },
  {
   "cell_type": "code",
   "execution_count": 2,
   "metadata": {},
   "outputs": [
    {
     "name": "stdout",
     "output_type": "stream",
     "text": [
      "['./Ear_image/Test/After_preprocess/0020.jpg.png', './Ear_image/Test/After_preprocess/0009.jpg.png', './Ear_image/Test/After_preprocess/0004.jpg.png', './Ear_image/Test/After_preprocess/0003.jpg.png', './Ear_image/Test/After_preprocess/0008.jpg.png', './Ear_image/Test/After_preprocess/0025.jpg.png', './Ear_image/Test/After_preprocess/0007.jpg.png', './Ear_image/Test/After_preprocess/0013.jpg.png', './Ear_image/Test/After_preprocess/0015.jpg.png', './Ear_image/Test/After_preprocess/0023.jpg.png', './Ear_image/Test/After_preprocess/0012.jpg.png', './Ear_image/Test/After_preprocess/0014.jpg.png', './Ear_image/Test/After_preprocess/0005.jpg.png', './Ear_image/Test/After_preprocess/0021.jpg.png', './Ear_image/Test/After_preprocess/0002.jpg.png', './Ear_image/Test/After_preprocess/0024.jpg.png', './Ear_image/Test/After_preprocess/0017.jpg.png', './Ear_image/Test/After_preprocess/0018.jpg.png', './Ear_image/Test/After_preprocess/0022.jpg.png', './Ear_image/Test/After_preprocess/0016.jpg.png', './Ear_image/Test/After_preprocess/0010.jpg.png', './Ear_image/Test/After_preprocess/0001.jpg.png', './Ear_image/Test/After_preprocess/0000.jpg.png', './Ear_image/Test/After_preprocess/0011.jpg.png', './Ear_image/Test/After_preprocess/0006.jpg.png']\n"
     ]
    }
   ],
   "source": [
    "train_data = pd.read_csv(\"./Test_Data/Ear_test_data.txt\", names=['image'])\n",
    "train_image = list(train_data['image'])\n",
    "print(train_image)"
   ]
  },
  {
   "cell_type": "code",
   "execution_count": 3,
   "metadata": {},
   "outputs": [
    {
     "ename": "SyntaxError",
     "evalue": "invalid syntax (<ipython-input-3-0dc908b9dd5d>, line 1)",
     "output_type": "error",
     "traceback": [
      "\u001b[0;36m  File \u001b[0;32m\"<ipython-input-3-0dc908b9dd5d>\"\u001b[0;36m, line \u001b[0;32m1\u001b[0m\n\u001b[0;31m    data_queue = tf.train.slice_input_producer([train_image], num_epochs=, shuffle=True)\u001b[0m\n\u001b[0m                                                                         ^\u001b[0m\n\u001b[0;31mSyntaxError\u001b[0m\u001b[0;31m:\u001b[0m invalid syntax\n"
     ]
    }
   ],
   "source": [
    "data_queue = tf.train.slice_input_producer([train_image], num_epochs=None, shuffle=True)\n",
    "\n",
    "sess = tf.Session()\n",
    "coord = tf.train.Coordinator()\n",
    "threads = tf.train.start_queue_runners(sess=sess, coord=coord)\n",
    "sess.run(tf.global_variables_initializer())\n",
    "type(sess.run(data_queue))"
   ]
  },
  {
   "cell_type": "code",
   "execution_count": null,
   "metadata": {},
   "outputs": [],
   "source": []
  }
 ],
 "metadata": {
  "kernelspec": {
   "display_name": "Python 3",
   "language": "python",
   "name": "python3"
  },
  "language_info": {
   "codemirror_mode": {
    "name": "ipython",
    "version": 3
   },
   "file_extension": ".py",
   "mimetype": "text/x-python",
   "name": "python",
   "nbconvert_exporter": "python",
   "pygments_lexer": "ipython3",
   "version": "3.6.5"
  }
 },
 "nbformat": 4,
 "nbformat_minor": 2
}
